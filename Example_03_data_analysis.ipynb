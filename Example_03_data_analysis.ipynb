{
 "cells": [
  {
   "cell_type": "code",
   "execution_count": null,
   "id": "4e526907",
   "metadata": {},
   "outputs": [],
   "source": [
    "# 导入必要的库\n",
    "import pandas as np\n",
    "import numpy as np\n",
    "import matplotlib.pyplot as plt\n",
    "import seaborn as sns\n",
    "import datetime"
   ]
  },
  {
   "cell_type": "code",
   "execution_count": null,
   "id": "0db71af7",
   "metadata": {},
   "outputs": [],
   "source": [
    "# 用pandas读取'veh_event_data.csv'文件，并打印dataframe的头部"
   ]
  },
  {
   "cell_type": "code",
   "execution_count": null,
   "id": "76e3fe2f",
   "metadata": {},
   "outputs": [],
   "source": [
    "# 打印dataframe的所有列的名称"
   ]
  },
  {
   "cell_type": "code",
   "execution_count": null,
   "id": "0e06bd33",
   "metadata": {},
   "outputs": [],
   "source": [
    "# 统计数据中车辆ID的出现频数，画出频数统计图，并打印出现频数最多的5个车辆ID及出现次数"
   ]
  },
  {
   "cell_type": "code",
   "execution_count": null,
   "id": "c7e655af",
   "metadata": {},
   "outputs": [],
   "source": [
    "# 根据时间这一列的时间戳（单位为毫秒）统计数据的时间范围，并以天为单位画出时间范围的直方图，横轴为日期"
   ]
  },
  {
   "cell_type": "code",
   "execution_count": null,
   "id": "bc615e2e",
   "metadata": {},
   "outputs": [],
   "source": [
    "# 统计一天24小时中每个小时出现事件的频数，并画出频数统计图"
   ]
  },
  {
   "cell_type": "code",
   "execution_count": null,
   "id": "bc599b3d",
   "metadata": {},
   "outputs": [],
   "source": [
    "# 根据每行事件的经纬度坐标，绘制所有数据点的散点图"
   ]
  },
  {
   "cell_type": "code",
   "execution_count": null,
   "id": "9030f0a3",
   "metadata": {},
   "outputs": [],
   "source": [
    "# 统计所有样本中各类事件出现的频率，按降序画出各类事件的频率柱状图"
   ]
  },
  {
   "cell_type": "code",
   "execution_count": null,
   "id": "72730893",
   "metadata": {},
   "outputs": [],
   "source": [
    "# 对所有事件点根据经纬度坐标进行聚类，并画出聚类结果的散点图，聚类为10类"
   ]
  },
  {
   "cell_type": "code",
   "execution_count": null,
   "id": "ca329d16",
   "metadata": {},
   "outputs": [],
   "source": [
    "# 统计每种事件对应的速度的均值、方差、最大值、最小值，按照事件总出现次数降序打印每个事件的速度的上述四个统计量，保证打印出来美观易读"
   ]
  }
 ],
 "metadata": {
  "kernelspec": {
   "display_name": "traffic_risk",
   "language": "python",
   "name": "python3"
  },
  "language_info": {
   "name": "python",
   "version": "3.9.18"
  }
 },
 "nbformat": 4,
 "nbformat_minor": 5
}
